{
 "cells": [
  {
   "cell_type": "markdown",
   "metadata": {
    "deletable": true,
    "editable": true
   },
   "source": [
    "# crfsgd examples"
   ]
  },
  {
   "cell_type": "markdown",
   "metadata": {
    "deletable": true,
    "editable": true
   },
   "source": [
    "## 前言\n",
    "CRF算法的开源工具中最常见的有三种：CRF++, CRFsuite, SGD(crfsgd)，crfsgd是使用sgd的优化方式实现的crf工具，具有效果相当但是速度要快很多的优势，详情可看[官网](http://leon.bottou.org/projects/sgd)，有一篇博文[《三种CRF实现在中文分词任务上的表现比较》](https://jianqiangma.wordpress.com/2011/11/14/%E4%B8%89%E7%A7%8Dcrf%E5%AE%9E%E7%8E%B0%E7%9A%84%E7%AE%80%E5%8D%95%E6%AF%94%E8%BE%83/)对三者的性能进行了实验对比。\n",
    "\n",
    "工具说明、源码下载、编译、文档等参见[官网](http://leon.bottou.org/projects/sgd)。本例从官网下载源码，本地编译成可执行程序放在bin/中，crfsgd和crfasgd为两个版本的工具，conlleval为评测脚本，本例说明和演示怎么在chunking和NER两个任务上使用该工具。"
   ]
  },
  {
   "cell_type": "markdown",
   "metadata": {
    "collapsed": true,
    "deletable": true,
    "editable": true
   },
   "source": [
    "## 语料\n",
    "### CONLL2000 (chunking task)\n",
    "* 训练数据：data/conll2000/train.txt\n",
    "* 测试数据：data/conll2000/test.txt  \n",
    "    样例："
   ]
  },
  {
   "cell_type": "code",
   "execution_count": 5,
   "metadata": {
    "collapsed": false,
    "scrolled": true
   },
   "outputs": [
    {
     "name": "stdout",
     "output_type": "stream",
     "text": [
      "Confidence NN B-NP\r\n",
      "in IN B-PP\r\n",
      "the DT B-NP\r\n",
      "pound NN I-NP\r\n",
      "is VBZ B-VP\r\n",
      "widely RB I-VP\r\n",
      "expected VBN I-VP\r\n",
      "to TO I-VP\r\n",
      "take VB I-VP\r\n",
      "another DT B-NP\r\n",
      "sharp JJ I-NP\r\n",
      "dive NN I-NP\r\n",
      "if IN B-SBAR\r\n",
      "trade NN B-NP\r\n",
      "figures NNS I-NP\r\n",
      "for IN B-PP\r\n",
      "September NNP B-NP\r\n",
      ", , O\r\n",
      "due JJ B-ADJP\r\n",
      "for IN B-PP\r\n"
     ]
    }
   ],
   "source": [
    "!head -20 data/conll2000/train.txt"
   ]
  },
  {
   "cell_type": "markdown",
   "metadata": {},
   "source": [
    "### CONLL2003 (NER(实体识别) task)\n",
    "* 训练数据：data/conll2003/eng.train\n",
    "* 测试数据：data/conll2003/eng.testa,data/conll2003/eng.testb  \n",
    "    样例："
   ]
  },
  {
   "cell_type": "code",
   "execution_count": 8,
   "metadata": {
    "collapsed": false
   },
   "outputs": [
    {
     "name": "stdout",
     "output_type": "stream",
     "text": [
      "EU NNP I-NP I-ORG\r\n",
      "rejects VBZ I-VP O\r\n",
      "German JJ I-NP I-MISC\r\n",
      "call NN I-NP O\r\n",
      "to TO I-VP O\r\n",
      "boycott VB I-VP O\r\n",
      "British JJ I-NP I-MISC\r\n",
      "lamb NN I-NP O\r\n",
      ". . O O\r\n",
      "\r\n",
      "Peter NNP I-NP I-PER\r\n",
      "Blackburn NNP I-NP I-PER\r\n",
      "\r\n",
      "BRUSSELS NNP I-NP I-LOC\r\n",
      "1996-08-22 CD I-NP O\r\n",
      "\r\n",
      "The DT I-NP O\r\n",
      "European NNP I-NP I-ORG\r\n",
      "Commission NNP I-NP I-ORG\r\n",
      "said VBD I-VP O\r\n"
     ]
    }
   ],
   "source": [
    "!head -20 data/conll2003/eng.train"
   ]
  },
  {
   "cell_type": "markdown",
   "metadata": {},
   "source": [
    "## 训练"
   ]
  },
  {
   "cell_type": "markdown",
   "metadata": {},
   "source": [
    "### CONLL2000 (chunking task)"
   ]
  },
  {
   "cell_type": "code",
   "execution_count": 18,
   "metadata": {
    "collapsed": false
   },
   "outputs": [
    {
     "name": "stdout",
     "output_type": "stream",
     "text": [
      "Reading template file template.\n",
      "  u-templates: 19  b-templates: 1\n",
      "Scanning ../data/conll2000/train.txt to build dictionary.\n",
      "  sentences: 8936  outputs: 22\n",
      "  cutoff: 3  features: 76329  parameters: 1679700\n",
      "  duration: 2.12 seconds.\n",
      "Using c=1, i.e. lambda=0.000111907\n",
      "Reading and preprocessing ../data/conll2000/train.txt.\n",
      "  processed: 8936 sentences.\n",
      "  duration: 2.65 seconds.\n",
      "[Calibrating] --  1000 samples\n",
      " initial objective=72.0924\n",
      " trying eta=0.1  obj=2.31697 (possible)\n",
      " trying eta=0.2  obj=2.11996 (possible)\n",
      " trying eta=0.4  obj=3.11353 (possible)\n",
      " trying eta=0.8  obj=7.48934 (possible)\n",
      " trying eta=1.6  obj=20.8896 (possible)\n",
      " trying eta=3.2  obj=55.0811 (possible)\n",
      " trying eta=6.4  obj=152.961 (too large)\n",
      " trying eta=0.05  obj=3.21627 (possible)\n",
      " trying eta=0.025  obj=4.52218 (possible)\n",
      " trying eta=0.0125  obj=6.1844 (possible)\n",
      " trying eta=0.00625  obj=8.43184 (possible)\n",
      " taking eta=0.1  t0=89360 time=8.49s.\n",
      "[Epoch 1] -- wnorm=3428.22 time=13.76s.\n",
      "[Epoch 2] -- wnorm=4997.64 time=19.1s.\n",
      "[Epoch 3] -- wnorm=6099.62 time=24.28s.\n",
      "[Epoch 4] -- wnorm=6884.92 time=29.62s.\n",
      "[Epoch 5] -- wnorm=7465.1 time=34.83s.\n",
      "Training perf: sentences=8936 loss=0.91792 obj=1.33562 err=3175 (1.49957%)\n",
      "accuracy:  98.50%; precision:  97.20%; recall:  97.88%; FB1:  97.54\n",
      "[Epoch 6] -- wnorm=7903.41 time=39.21s.\n",
      "[Epoch 7] -- wnorm=8236.99 time=43.51s.\n",
      "[Epoch 8] -- wnorm=8492.46 time=47.88s.\n",
      "[Epoch 9] -- wnorm=8693.01 time=52.2s.\n",
      "[Epoch 10] -- wnorm=8856.75 time=56.57s.\n",
      "Training perf: sentences=8936 loss=0.593776 obj=1.08934 err=1509 (0.71271%)\n",
      "accuracy:  99.29%; precision:  98.79%; recall:  98.64%; FB1:  98.71\n",
      "Saving model file ./model/chunk_model.gz.\n",
      "Done!  56.57 seconds.\n"
     ]
    }
   ],
   "source": [
    "!./bin/crfsgd -c 1.0 -f 3 -r 10 ./model/chunk_model.gz template ../data/conll2000/train.txt"
   ]
  },
  {
   "cell_type": "markdown",
   "metadata": {},
   "source": [
    "### CONLL2003 (NER(实体识别) task)"
   ]
  },
  {
   "cell_type": "code",
   "execution_count": 19,
   "metadata": {
    "collapsed": false
   },
   "outputs": [
    {
     "name": "stdout",
     "output_type": "stream",
     "text": [
      "Reading template file template.\n",
      "  u-templates: 19  b-templates: 1\n",
      "Scanning ../data/conll2003/eng.train to build dictionary.\n",
      "  sentences: 14986  outputs: 8\n",
      "  cutoff: 3  features: 79313  parameters: 634560\n",
      "  duration: 1.98 seconds.\n",
      "Using c=1, i.e. lambda=6.67289e-05\n",
      "Reading and preprocessing ../data/conll2003/eng.train.\n",
      "  processed: 14986 sentences.\n",
      "  duration: 2.12 seconds.\n",
      "[Calibrating] --  1000 samples\n",
      " initial objective=29.1247\n",
      " trying eta=0.1  obj=2.10574 (possible)\n",
      " trying eta=0.2  obj=2.96499 (possible)\n",
      " trying eta=0.4  obj=6.10803 (possible)\n",
      " trying eta=0.8  obj=11.961 (possible)\n",
      " trying eta=1.6  obj=33.2681 (too large)\n",
      " trying eta=0.05  obj=2.22704 (possible)\n",
      " trying eta=0.025  obj=2.68477 (possible)\n",
      " trying eta=0.0125  obj=3.23359 (possible)\n",
      " trying eta=0.00625  obj=3.83905 (possible)\n",
      " trying eta=0.003125  obj=4.61365 (possible)\n",
      " trying eta=0.0015625  obj=5.71213 (possible)\n",
      " taking eta=0.05  t0=299720 time=1.22s.\n",
      "[Epoch 1] -- wnorm=1285.97 time=2.36s.\n",
      "[Epoch 2] -- wnorm=2283.23 time=3.47s.\n",
      "[Epoch 3] -- wnorm=3115.07 time=4.58s.\n",
      "[Epoch 4] -- wnorm=3811.31 time=5.73s.\n",
      "[Epoch 5] -- wnorm=4395.21 time=6.84s.\n",
      "Training perf: sentences=14986 loss=0.768473 obj=0.915117 err=4061 (1.98518%)\n",
      "accuracy:  98.01%; precision:  91.19%; recall:  87.86%; FB1:  89.49\n",
      "[Epoch 6] -- wnorm=4895.7 time=8.27s.\n",
      "[Epoch 7] -- wnorm=5332.45 time=9.65s.\n",
      "[Epoch 8] -- wnorm=5716.58 time=11.01s.\n",
      "[Epoch 9] -- wnorm=6049.36 time=12.39s.\n",
      "[Epoch 10] -- wnorm=6339.37 time=13.72s.\n",
      "Training perf: sentences=14986 loss=0.581258 obj=0.792768 err=2554 (1.2485%)\n",
      "accuracy:  98.75%; precision:  94.63%; recall:  91.64%; FB1:  93.11\n",
      "Saving model file ./model/ner_model.gz.\n",
      "Done!  13.72 seconds.\n"
     ]
    }
   ],
   "source": [
    "!./bin/crfsgd -c 1.0 -f 3 -r 10 ./model/ner_model.gz template ../data/conll2003/eng.train"
   ]
  },
  {
   "cell_type": "markdown",
   "metadata": {},
   "source": [
    "## 评估"
   ]
  },
  {
   "cell_type": "markdown",
   "metadata": {
    "deletable": true,
    "editable": true
   },
   "source": [
    "### CONLL2000 (chunking task)"
   ]
  },
  {
   "cell_type": "code",
   "execution_count": 20,
   "metadata": {
    "collapsed": false
   },
   "outputs": [
    {
     "name": "stdout",
     "output_type": "stream",
     "text": [
      "processed 47377 tokens with 23852 phrases; found: 23815 phrases; correct: 22281.\r\n",
      "accuracy:  95.86%; precision:  93.56%; recall:  93.41%; FB1:  93.49\r\n",
      "             ADJP: precision:  79.05%; recall:  75.80%; FB1:  77.39  420\r\n",
      "             ADVP: precision:  83.08%; recall:  80.48%; FB1:  81.76  839\r\n",
      "            CONJP: precision:  55.56%; recall:  55.56%; FB1:  55.56  9\r\n",
      "             INTJ: precision: 100.00%; recall:  50.00%; FB1:  66.67  1\r\n",
      "              LST: precision:   0.00%; recall:   0.00%; FB1:   0.00  0\r\n",
      "               NP: precision:  93.93%; recall:  93.64%; FB1:  93.78  12384\r\n",
      "               PP: precision:  96.54%; recall:  98.00%; FB1:  97.27  4884\r\n",
      "              PRT: precision:  79.21%; recall:  75.47%; FB1:  77.29  101\r\n",
      "             SBAR: precision:  88.21%; recall:  83.93%; FB1:  86.02  509\r\n",
      "               VP: precision:  93.62%; recall:  93.82%; FB1:  93.72  4668\r\n"
     ]
    }
   ],
   "source": [
    "!./bin/crfsgd -t model/chunk_model.gz data/conll2000/test.txt | ./conlleval"
   ]
  },
  {
   "cell_type": "markdown",
   "metadata": {
    "deletable": true,
    "editable": true
   },
   "source": [
    "### CONLL2003 (NER(实体识别) task)"
   ]
  },
  {
   "cell_type": "code",
   "execution_count": 21,
   "metadata": {
    "collapsed": false
   },
   "outputs": [
    {
     "name": "stdout",
     "output_type": "stream",
     "text": [
      "processed 51577 tokens with 5942 phrases; found: 5573 phrases; correct: 4639.\r\n",
      "accuracy:  96.48%; precision:  83.24%; recall:  78.07%; FB1:  80.57\r\n",
      "              LOC: precision:  82.52%; recall:  81.22%; FB1:  81.87  1808\r\n",
      "             MISC: precision:  87.07%; recall:  63.56%; FB1:  73.48  673\r\n",
      "              ORG: precision:  82.92%; recall:  72.04%; FB1:  77.09  1165\r\n",
      "              PER: precision:  82.77%; recall:  86.59%; FB1:  84.64  1927\r\n"
     ]
    }
   ],
   "source": [
    "!./bin/crfsgd -t model/ner_model.gz data/conll2003/eng.testa | ./conlleval"
   ]
  },
  {
   "cell_type": "code",
   "execution_count": 23,
   "metadata": {
    "collapsed": false
   },
   "outputs": [
    {
     "name": "stdout",
     "output_type": "stream",
     "text": [
      "processed 46665 tokens with 5648 phrases; found: 5324 phrases; correct: 4246.\r\n",
      "accuracy:  95.44%; precision:  79.75%; recall:  75.18%; FB1:  77.40\r\n",
      "              LOC: precision:  82.63%; recall:  83.27%; FB1:  82.95  1681\r\n",
      "             MISC: precision:  77.27%; recall:  53.28%; FB1:  63.07  484\r\n",
      "              ORG: precision:  79.47%; recall:  67.37%; FB1:  72.92  1408\r\n",
      "              PER: precision:  77.90%; recall:  84.35%; FB1:  81.00  1751\r\n"
     ]
    }
   ],
   "source": [
    "!./bin/crfsgd -t model/ner_model.gz data/conll2003/eng.testb | ./conlleval"
   ]
  }
 ],
 "metadata": {
  "kernelspec": {
   "display_name": "Python 2",
   "language": "python",
   "name": "python2"
  },
  "language_info": {
   "codemirror_mode": {
    "name": "ipython",
    "version": 2
   },
   "file_extension": ".py",
   "mimetype": "text/x-python",
   "name": "python",
   "nbconvert_exporter": "python",
   "pygments_lexer": "ipython2",
   "version": "2.7.5"
  }
 },
 "nbformat": 4,
 "nbformat_minor": 2
}
