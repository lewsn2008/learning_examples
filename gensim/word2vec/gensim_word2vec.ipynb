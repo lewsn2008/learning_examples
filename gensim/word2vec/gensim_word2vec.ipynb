{
 "cells": [
  {
   "cell_type": "markdown",
   "metadata": {},
   "source": [
    "# gensim word2vec example"
   ]
  },
  {
   "cell_type": "code",
   "execution_count": 1,
   "metadata": {
    "collapsed": true
   },
   "outputs": [],
   "source": [
    "#!/usr/bin/env python\n",
    "#coding=utf8                                                                                                                                                                                                      \n",
    "# author: Andy Liu\n",
    "from __future__ import print_function\n",
    "import argparse\n",
    "import logging\n",
    "import sys \n",
    "\n",
    "from gensim.models.word2vec import Word2Vec\n",
    "from gensim.models.word2vec import Text8Corpus\n",
    "\n",
    "reload(sys)\n",
    "sys.setdefaultencoding(\"utf8\")\n",
    "\n",
    "# Configure logging.\n",
    "logging.basicConfig(\n",
    "    level=logging.INFO,\n",
    "    format=('[%(levelname)s] %(asctime)s %(filename)s:%(lineno)d :'\n",
    "            '%(message)s'), datefmt='%a, %d %b %Y %H:%M:%S')"
   ]
  },
  {
   "cell_type": "markdown",
   "metadata": {},
   "source": [
    "定义从文件读取训练数据的类，重定义__iter__函数使该类为iterable，gensim的Word2Vec可以一次性读取所有训练语料，也可以从iterable读取训练语料，这样可以节省内存，注意__iter__函数中使用yield输出每个句子，也是为了节省内存。"
   ]
  },
  {
   "cell_type": "code",
   "execution_count": 2,
   "metadata": {
    "collapsed": true
   },
   "outputs": [],
   "source": [
    "class Sentences(object):\n",
    "    def __init__(self, corpus_file):\n",
    "        self.corpus_file = corpus_file\n",
    "\n",
    "    def __iter__(self):\n",
    "        for line in open(self.corpus_file):\n",
    "            line = line.strip().lower()\n",
    "            if not isinstance(line, unicode):\n",
    "                try:\n",
    "                    line = line.decode('utf8')\n",
    "                except:\n",
    "                    logging.error('Failed to decode line %s' % line, file=sys.stderr)\n",
    "            yield line.split('\\t') "
   ]
  },
  {
   "cell_type": "markdown",
   "metadata": {},
   "source": [
    "** 训练函数 **"
   ]
  },
  {
   "cell_type": "code",
   "execution_count": 6,
   "metadata": {
    "collapsed": true
   },
   "outputs": [],
   "source": [
    "def train(corpus_file, dimension):\n",
    "    # 此处可以使用上面定义的类读取训练数据，也可以使用gensim提供的Text8Corpus类读取.\n",
    "    sentences = Sentences(corpus_file)\n",
    "    #sentences = Text8Corpus(args.corpus_file)\n",
    "    model = Word2Vec(sentences, min_count=5, size=dimension)\n",
    "    logging.info('Finished training!')\n",
    "\n",
    "    return model"
   ]
  },
  {
   "cell_type": "markdown",
   "metadata": {},
   "source": [
    "** restore函数 **"
   ]
  },
  {
   "cell_type": "code",
   "execution_count": null,
   "metadata": {
    "collapsed": true
   },
   "outputs": [],
   "source": [
    "def restore(args):\n",
    "    if not args.model:\n",
    "        logging.error('Model path needed!')\n",
    "        sys.exit(1)\n",
    "\n",
    "    return Word2Vec.load(args.model)"
   ]
  },
  {
   "cell_type": "markdown",
   "metadata": {},
   "source": [
    "** 测试函数 **"
   ]
  },
  {
   "cell_type": "code",
   "execution_count": 12,
   "metadata": {
    "collapsed": false
   },
   "outputs": [],
   "source": [
    "def evaluate(model, word):\n",
    "    if not isinstance(word, unicode):\n",
    "        word = word.decode('utf8')\n",
    "\n",
    "    print('====== Test of word: %s' % word)\n",
    "    if word not in model.wv.vocab:\n",
    "        print('Word not exist in vocabulary!', file=sys.stderr)\n",
    "        return\n",
    "\n",
    "    #print('Embedding vector :')\n",
    "    #print(model.wv[word])                                                                                                                                                                                    \n",
    "\n",
    "    print('Top 10 most simiar words:')\n",
    "    l = model.most_similar(positive=[word], topn=10)\n",
    "    for (word, v) in l:\n",
    "        print('%s\\t%f' % (word, v))"
   ]
  },
  {
   "cell_type": "markdown",
   "metadata": {},
   "source": [
    "#### 训练"
   ]
  },
  {
   "cell_type": "code",
   "execution_count": 14,
   "metadata": {
    "collapsed": false
   },
   "outputs": [],
   "source": [
    "model = train('./data/corpus_10w', 200)"
   ]
  },
  {
   "cell_type": "markdown",
   "metadata": {},
   "source": [
    "#### 保存模型到文件"
   ]
  },
  {
   "cell_type": "code",
   "execution_count": 15,
   "metadata": {
    "collapsed": true
   },
   "outputs": [],
   "source": [
    "model.save('./model/corpus_10w_200.model')"
   ]
  },
  {
   "cell_type": "markdown",
   "metadata": {},
   "source": [
    "#### 测试"
   ]
  },
  {
   "cell_type": "code",
   "execution_count": 16,
   "metadata": {
    "collapsed": false
   },
   "outputs": [],
   "source": [
    "evaluate(model, u'电影')"
   ]
  },
  {
   "cell_type": "code",
   "execution_count": 20,
   "metadata": {
    "collapsed": false
   },
   "outputs": [],
   "source": [
    "print('aaaa')\n",
    "evaluate(model, u'花絮')"
   ]
  },
  {
   "cell_type": "code",
   "execution_count": null,
   "metadata": {
    "collapsed": true
   },
   "outputs": [],
   "source": []
  }
 ],
 "metadata": {
  "kernelspec": {
   "display_name": "Python 2",
   "language": "python",
   "name": "python2"
  },
  "language_info": {
   "codemirror_mode": {
    "name": "ipython",
    "version": 2
   },
   "file_extension": ".py",
   "mimetype": "text/x-python",
   "name": "python",
   "nbconvert_exporter": "python",
   "pygments_lexer": "ipython2",
   "version": "2.7.5"
  }
 },
 "nbformat": 4,
 "nbformat_minor": 2
}
