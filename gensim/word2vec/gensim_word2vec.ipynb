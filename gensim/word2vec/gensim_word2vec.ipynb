{
 "cells": [
  {
   "cell_type": "markdown",
   "metadata": {
    "deletable": true,
    "editable": true
   },
   "source": [
    "# gensim word2vec example"
   ]
  },
  {
   "cell_type": "markdown",
   "metadata": {},
   "source": [
    "全局定义，此处需要注意：注释掉的reload两行会影响print的输出，需要注释掉。"
   ]
  },
  {
   "cell_type": "code",
   "execution_count": 1,
   "metadata": {
    "collapsed": true,
    "deletable": true,
    "editable": true
   },
   "outputs": [],
   "source": [
    "#!/usr/bin/env python\n",
    "#coding=utf8                                                                                                                                                                                                      \n",
    "# author: Andy Liu\n",
    "#from __future__ import print_function\n",
    "import argparse\n",
    "import logging\n",
    "import sys \n",
    "\n",
    "from gensim.models.word2vec import Word2Vec\n",
    "from gensim.models.word2vec import Text8Corpus\n",
    "\n",
    "#reload(sys)\n",
    "#sys.setdefaultencoding(\"utf8\")\n",
    "\n",
    "# Configure logging.\n",
    "logging.basicConfig(\n",
    "    level=logging.INFO,\n",
    "    format=('[%(levelname)s] %(asctime)s %(filename)s:%(lineno)d :'\n",
    "            '%(message)s'), datefmt='%a, %d %b %Y %H:%M:%S')"
   ]
  },
  {
   "cell_type": "markdown",
   "metadata": {
    "deletable": true,
    "editable": true
   },
   "source": [
    "定义从文件读取训练数据的类，重定义__iter__函数使该类为iterable，gensim的Word2Vec可以一次性读取所有训练语料，也可以从iterable读取训练语料，这样可以节省内存，注意__iter__函数中使用yield输出每个句子，也是为了节省内存。"
   ]
  },
  {
   "cell_type": "code",
   "execution_count": 2,
   "metadata": {
    "collapsed": true,
    "deletable": true,
    "editable": true
   },
   "outputs": [],
   "source": [
    "class Sentences(object):\n",
    "    def __init__(self, corpus_file):\n",
    "        self.corpus_file = corpus_file\n",
    "\n",
    "    def __iter__(self):\n",
    "        for line in open(self.corpus_file):\n",
    "            line = line.strip().lower()\n",
    "            if not isinstance(line, unicode):\n",
    "                try:\n",
    "                    line = line.decode('utf8')\n",
    "                except:\n",
    "                    logging.error('Failed to decode line %s' % line, file=sys.stderr)\n",
    "            yield line.split('\\t') "
   ]
  },
  {
   "cell_type": "markdown",
   "metadata": {
    "deletable": true,
    "editable": true
   },
   "source": [
    "** 训练函数 **"
   ]
  },
  {
   "cell_type": "code",
   "execution_count": 3,
   "metadata": {
    "collapsed": true,
    "deletable": true,
    "editable": true
   },
   "outputs": [],
   "source": [
    "def train(corpus_file, dimension):\n",
    "    # 此处可以使用上面定义的类读取训练数据，也可以使用gensim提供的Text8Corpus类读取.\n",
    "    sentences = Sentences(corpus_file)\n",
    "    #sentences = Text8Corpus(args.corpus_file)\n",
    "    model = Word2Vec(sentences, min_count=5, size=dimension)\n",
    "    logging.info('Finished training!')\n",
    "\n",
    "    return model"
   ]
  },
  {
   "cell_type": "markdown",
   "metadata": {
    "deletable": true,
    "editable": true
   },
   "source": [
    "** restore函数 **"
   ]
  },
  {
   "cell_type": "code",
   "execution_count": 4,
   "metadata": {
    "collapsed": true,
    "deletable": true,
    "editable": true
   },
   "outputs": [],
   "source": [
    "def restore(args):\n",
    "    if not args.model:\n",
    "        logging.error('Model path needed!')\n",
    "        sys.exit(1)\n",
    "\n",
    "    return Word2Vec.load(args.model)"
   ]
  },
  {
   "cell_type": "markdown",
   "metadata": {
    "deletable": true,
    "editable": true
   },
   "source": [
    "** 测试函数 **"
   ]
  },
  {
   "cell_type": "code",
   "execution_count": 15,
   "metadata": {
    "collapsed": false,
    "deletable": true,
    "editable": true
   },
   "outputs": [],
   "source": [
    "def evaluate(model, word):\n",
    "    if not isinstance(word, unicode):\n",
    "        word = word.decode('utf8')\n",
    "\n",
    "    if word not in model.wv.vocab:\n",
    "        print('Word not exist in vocabulary!')\n",
    "        return\n",
    "\n",
    "    #print('Embedding vector :')\n",
    "    #print(model.wv[word])                                                                                                                                                                                    \n",
    "\n",
    "    print('Top 10 most simiar words of word %s:' % word)\n",
    "    l = model.most_similar(positive=[word], topn=10)\n",
    "    for (word, v) in l:\n",
    "        print('%s\\t%f' % (word, v))"
   ]
  },
  {
   "cell_type": "markdown",
   "metadata": {
    "deletable": true,
    "editable": true
   },
   "source": [
    "#### 训练\n",
    "此处使用的语料是10万条已经分词的视频标题，对于训练词向量来说这个语料规模是很小的，此处只是为了编写和测试流程和功能，从后面选择的几个测试的词的结果来看，效果还可以。如果需要实际应用或追求更好的效果，需要使用更大的语料。"
   ]
  },
  {
   "cell_type": "code",
   "execution_count": 6,
   "metadata": {
    "collapsed": false,
    "deletable": true,
    "editable": true
   },
   "outputs": [
    {
     "name": "stderr",
     "output_type": "stream",
     "text": [
      "[INFO] Sat, 09 Sep 2017 11:48:32 word2vec.py:550 :collecting all words and their counts\n",
      "[INFO] Sat, 09 Sep 2017 11:48:32 word2vec.py:564 :PROGRESS: at sentence #0, processed 0 words, keeping 0 word types\n",
      "[INFO] Sat, 09 Sep 2017 11:48:32 word2vec.py:564 :PROGRESS: at sentence #10000, processed 103613 words, keeping 25861 word types\n",
      "[INFO] Sat, 09 Sep 2017 11:48:32 word2vec.py:564 :PROGRESS: at sentence #20000, processed 206818 words, keeping 41462 word types\n",
      "[INFO] Sat, 09 Sep 2017 11:48:32 word2vec.py:564 :PROGRESS: at sentence #30000, processed 309989 words, keeping 53888 word types\n",
      "[INFO] Sat, 09 Sep 2017 11:48:32 word2vec.py:564 :PROGRESS: at sentence #40000, processed 413984 words, keeping 64591 word types\n",
      "[INFO] Sat, 09 Sep 2017 11:48:32 word2vec.py:564 :PROGRESS: at sentence #50000, processed 517395 words, keeping 74021 word types\n",
      "[INFO] Sat, 09 Sep 2017 11:48:32 word2vec.py:564 :PROGRESS: at sentence #60000, processed 621091 words, keeping 82786 word types\n",
      "[INFO] Sat, 09 Sep 2017 11:48:32 word2vec.py:564 :PROGRESS: at sentence #70000, processed 723256 words, keeping 90510 word types\n",
      "[INFO] Sat, 09 Sep 2017 11:48:32 word2vec.py:564 :PROGRESS: at sentence #80000, processed 827132 words, keeping 97917 word types\n",
      "[INFO] Sat, 09 Sep 2017 11:48:32 word2vec.py:564 :PROGRESS: at sentence #90000, processed 929295 words, keeping 104894 word types\n",
      "[INFO] Sat, 09 Sep 2017 11:48:32 word2vec.py:574 :collected 111751 word types from a corpus of 1033552 raw words and 100000 sentences\n",
      "[INFO] Sat, 09 Sep 2017 11:48:32 word2vec.py:597 :Loading a fresh vocabulary\n",
      "[INFO] Sat, 09 Sep 2017 11:48:33 word2vec.py:620 :min_count=5 retains 19254 unique words (17% of original 111751, drops 92497)\n",
      "[INFO] Sat, 09 Sep 2017 11:48:33 word2vec.py:624 :min_count=5 leaves 895723 word corpus (86% of original 1033552, drops 137829)\n",
      "[INFO] Sat, 09 Sep 2017 11:48:33 word2vec.py:680 :deleting the raw counts dictionary of 111751 items\n",
      "[INFO] Sat, 09 Sep 2017 11:48:33 word2vec.py:683 :sample=0.001 downsamples 27 most-common words\n",
      "[INFO] Sat, 09 Sep 2017 11:48:33 word2vec.py:685 :downsampling leaves estimated 678444 word corpus (75.7% of prior 895723)\n",
      "[INFO] Sat, 09 Sep 2017 11:48:33 word2vec.py:1220 :estimated required memory for 19254 words and 200 dimensions: 40433400 bytes\n",
      "[INFO] Sat, 09 Sep 2017 11:48:33 word2vec.py:1100 :resetting layer weights\n",
      "[INFO] Sat, 09 Sep 2017 11:48:33 word2vec.py:784 :training model with 3 workers on 19254 vocabulary and 200 features, using sg=0 hs=0 sample=0.001 negative=5 window=5\n",
      "[INFO] Sat, 09 Sep 2017 11:48:33 word2vec.py:800 :expecting 100000 sentences, matching count from corpus used for vocabulary survey\n",
      "[INFO] Sat, 09 Sep 2017 11:48:34 word2vec.py:926 :PROGRESS: at 15.08% examples, 502523 words/s, in_qsize 4, out_qsize 0\n",
      "[INFO] Sat, 09 Sep 2017 11:48:35 word2vec.py:926 :PROGRESS: at 30.73% examples, 515779 words/s, in_qsize 3, out_qsize 0\n",
      "[INFO] Sat, 09 Sep 2017 11:48:36 word2vec.py:926 :PROGRESS: at 48.53% examples, 544509 words/s, in_qsize 0, out_qsize 0\n",
      "[INFO] Sat, 09 Sep 2017 11:48:37 word2vec.py:926 :PROGRESS: at 65.95% examples, 555576 words/s, in_qsize 1, out_qsize 0\n",
      "[INFO] Sat, 09 Sep 2017 11:48:38 word2vec.py:926 :PROGRESS: at 83.15% examples, 560348 words/s, in_qsize 2, out_qsize 0\n",
      "[INFO] Sat, 09 Sep 2017 11:48:39 word2vec.py:908 :worker thread finished; awaiting finish of 2 more threads\n",
      "[INFO] Sat, 09 Sep 2017 11:48:39 word2vec.py:908 :worker thread finished; awaiting finish of 1 more threads\n",
      "[INFO] Sat, 09 Sep 2017 11:48:39 word2vec.py:908 :worker thread finished; awaiting finish of 0 more threads\n",
      "[INFO] Sat, 09 Sep 2017 11:48:39 word2vec.py:939 :training on 5167760 raw words (3393011 effective words) took 6.0s, 567553 effective words/s\n",
      "[INFO] Sat, 09 Sep 2017 11:48:39 <ipython-input-3-4af696bb054e>:6 :Finished training!\n"
     ]
    }
   ],
   "source": [
    "model = train('./data/corpus_10w', 200)"
   ]
  },
  {
   "cell_type": "markdown",
   "metadata": {
    "deletable": true,
    "editable": true
   },
   "source": [
    "#### 保存模型到文件"
   ]
  },
  {
   "cell_type": "code",
   "execution_count": 7,
   "metadata": {
    "collapsed": false,
    "deletable": true,
    "editable": true
   },
   "outputs": [
    {
     "name": "stderr",
     "output_type": "stream",
     "text": [
      "[INFO] Sat, 09 Sep 2017 11:48:39 utils.py:362 :saving Word2Vec object under ./model/corpus_10w_200.model, separately None\n",
      "[INFO] Sat, 09 Sep 2017 11:48:39 utils.py:450 :not storing attribute syn0norm\n",
      "[INFO] Sat, 09 Sep 2017 11:48:39 utils.py:450 :not storing attribute cum_table\n",
      "[INFO] Sat, 09 Sep 2017 11:48:39 utils.py:375 :saved ./model/corpus_10w_200.model\n"
     ]
    }
   ],
   "source": [
    "model.save('./model/corpus_10w_200.model')"
   ]
  },
  {
   "cell_type": "markdown",
   "metadata": {
    "deletable": true,
    "editable": true
   },
   "source": [
    "#### 测试"
   ]
  },
  {
   "cell_type": "code",
   "execution_count": 16,
   "metadata": {
    "collapsed": false,
    "deletable": true,
    "editable": true
   },
   "outputs": [
    {
     "name": "stdout",
     "output_type": "stream",
     "text": [
      "Top 10 most simiar words of word 电影:\n",
      "主题曲\t0.938073\n",
      "微电影\t0.913408\n",
      "歌曲\t0.913322\n",
      "插曲\t0.905568\n",
      "演唱\t0.889877\n",
      "经典\t0.885923\n",
      "港囧\t0.881589\n",
      "预告片\t0.878016\n",
      "电视剧\t0.876737\n",
      "花絮\t0.876419\n"
     ]
    }
   ],
   "source": [
    "evaluate(model, u'电影')"
   ]
  },
  {
   "cell_type": "code",
   "execution_count": 17,
   "metadata": {
    "collapsed": false,
    "deletable": true,
    "editable": true
   },
   "outputs": [
    {
     "name": "stdout",
     "output_type": "stream",
     "text": [
      "Top 10 most simiar words of word 花絮:\n",
      "预告片\t0.919176\n",
      "港囧\t0.907085\n",
      "主题曲\t0.903566\n",
      "电视剧\t0.902356\n",
      "特辑\t0.901953\n",
      "预告\t0.897735\n",
      "拍摄\t0.896118\n",
      "幕后\t0.894320\n",
      "片花\t0.893637\n",
      "红高粱\t0.884499\n"
     ]
    }
   ],
   "source": [
    "evaluate(model, u'花絮')"
   ]
  },
  {
   "cell_type": "code",
   "execution_count": 18,
   "metadata": {
    "collapsed": false
   },
   "outputs": [
    {
     "name": "stdout",
     "output_type": "stream",
     "text": [
      "Top 10 most simiar words of word 片花:\n",
      "当你老了\t0.966364\n",
      "选段\t0.965452\n",
      "幕后\t0.964890\n",
      "霍元甲\t0.962546\n",
      "越剧\t0.961426\n",
      "湖南卫视\t0.958544\n",
      "甄嬛传\t0.957648\n",
      "音乐剧\t0.955277\n",
      "连续剧\t0.954533\n",
      "红高粱\t0.953207\n"
     ]
    }
   ],
   "source": [
    "evaluate(model, u'片花')"
   ]
  },
  {
   "cell_type": "code",
   "execution_count": null,
   "metadata": {
    "collapsed": true
   },
   "outputs": [],
   "source": []
  }
 ],
 "metadata": {
  "kernelspec": {
   "display_name": "Python 2",
   "language": "python",
   "name": "python2"
  },
  "language_info": {
   "codemirror_mode": {
    "name": "ipython",
    "version": 2
   },
   "file_extension": ".py",
   "mimetype": "text/x-python",
   "name": "python",
   "nbconvert_exporter": "python",
   "pygments_lexer": "ipython2",
   "version": "2.7.5"
  }
 },
 "nbformat": 4,
 "nbformat_minor": 2
}
